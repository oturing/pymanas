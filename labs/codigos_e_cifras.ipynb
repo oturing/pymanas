{
 "cells": [
  {
   "cell_type": "markdown",
   "metadata": {},
   "source": [
    "# Códigos e cifras: criptografia para curiosos"
   ]
  },
  {
   "cell_type": "markdown",
   "metadata": {},
   "source": [
    "> **Sobre o Jupyter Notebook**\n",
    "\n",
    "> Isto é um [Jupyter Notebook](http://jupyter.org/), um documento interativo. Outro exemplo de documento interativo é uma planilha eletrônica feita no Excel ou no Libre Office.\n",
    "\n",
    "> Um documento interativo tem células que o leitor pode editar, alterando o resultado de outras células."
   ]
  },
  {
   "cell_type": "code",
   "execution_count": 1,
   "metadata": {
    "collapsed": false
   },
   "outputs": [
    {
     "name": "stdout",
     "output_type": "stream",
     "text": [
      "Códigos\n",
      "e cifras\n"
     ]
    }
   ],
   "source": [
    "t = '''Códigos\n",
    "e cifras'''\n",
    "\n",
    "print(t)"
   ]
  },
  {
   "cell_type": "code",
   "execution_count": 2,
   "metadata": {
    "collapsed": false
   },
   "outputs": [
    {
     "data": {
      "text/plain": [
       "'Códigos\\ne cifras'"
      ]
     },
     "execution_count": 2,
     "metadata": {},
     "output_type": "execute_result"
    }
   ],
   "source": [
    "t"
   ]
  },
  {
   "cell_type": "code",
   "execution_count": 3,
   "metadata": {
    "collapsed": false
   },
   "outputs": [
    {
     "data": {
      "text/plain": [
       "16"
      ]
     },
     "execution_count": 3,
     "metadata": {},
     "output_type": "execute_result"
    }
   ],
   "source": [
    "len(t)"
   ]
  },
  {
   "cell_type": "code",
   "execution_count": 4,
   "metadata": {
    "collapsed": false
   },
   "outputs": [
    {
     "data": {
      "text/plain": [
       "['C',\n",
       " 'ó',\n",
       " 'd',\n",
       " 'i',\n",
       " 'g',\n",
       " 'o',\n",
       " 's',\n",
       " '\\n',\n",
       " 'e',\n",
       " ' ',\n",
       " 'c',\n",
       " 'i',\n",
       " 'f',\n",
       " 'r',\n",
       " 'a',\n",
       " 's']"
      ]
     },
     "execution_count": 4,
     "metadata": {},
     "output_type": "execute_result"
    }
   ],
   "source": [
    "list(t)"
   ]
  },
  {
   "cell_type": "code",
   "execution_count": 5,
   "metadata": {
    "collapsed": false
   },
   "outputs": [
    {
     "data": {
      "text/plain": [
       "[(0, 'C'),\n",
       " (1, 'ó'),\n",
       " (2, 'd'),\n",
       " (3, 'i'),\n",
       " (4, 'g'),\n",
       " (5, 'o'),\n",
       " (6, 's'),\n",
       " (7, '\\n'),\n",
       " (8, 'e'),\n",
       " (9, ' '),\n",
       " (10, 'c'),\n",
       " (11, 'i'),\n",
       " (12, 'f'),\n",
       " (13, 'r'),\n",
       " (14, 'a'),\n",
       " (15, 's')]"
      ]
     },
     "execution_count": 5,
     "metadata": {},
     "output_type": "execute_result"
    }
   ],
   "source": [
    "list(enumerate(t))"
   ]
  },
  {
   "cell_type": "code",
   "execution_count": 6,
   "metadata": {
    "collapsed": false
   },
   "outputs": [],
   "source": [
    "arq1 = open('arq1.txt', 'w')\n",
    "arq1.write(t)\n",
    "arq1.close()"
   ]
  },
  {
   "cell_type": "code",
   "execution_count": 7,
   "metadata": {
    "collapsed": false
   },
   "outputs": [
    {
     "name": "stdout",
     "output_type": "stream",
     "text": [
      " 1  3 17 arq1.txt\r\n"
     ]
    }
   ],
   "source": [
    "!wc arq1.txt"
   ]
  },
  {
   "cell_type": "code",
   "execution_count": 8,
   "metadata": {
    "collapsed": false
   },
   "outputs": [
    {
     "name": "stdout",
     "output_type": "stream",
     "text": [
      "00000000: 43c3 b364 6967 6f73 0a65 2063 6966 7261  C..digos.e cifra\r\n",
      "00000010: 73                                       s\r\n"
     ]
    }
   ],
   "source": [
    "!xxd arq1.txt"
   ]
  },
  {
   "cell_type": "code",
   "execution_count": null,
   "metadata": {
    "collapsed": true
   },
   "outputs": [],
   "source": []
  },
  {
   "cell_type": "code",
   "execution_count": 9,
   "metadata": {
    "collapsed": false
   },
   "outputs": [
    {
     "data": {
      "text/plain": [
       "'Códigos\\ne cifras'"
      ]
     },
     "execution_count": 9,
     "metadata": {},
     "output_type": "execute_result"
    }
   ],
   "source": [
    "txt = open('arq1.txt').read()\n",
    "txt"
   ]
  },
  {
   "cell_type": "code",
   "execution_count": 10,
   "metadata": {
    "collapsed": false
   },
   "outputs": [],
   "source": [
    "arq1 = open('arq2.txt', 'w', encoding='latin1')\n",
    "arq1.write(txt)\n",
    "arq1.close()"
   ]
  },
  {
   "cell_type": "code",
   "execution_count": 11,
   "metadata": {
    "collapsed": false
   },
   "outputs": [
    {
     "name": "stdout",
     "output_type": "stream",
     "text": [
      " 1  3 16 arq2.txt\r\n"
     ]
    }
   ],
   "source": [
    "!wc arq2.txt"
   ]
  },
  {
   "cell_type": "code",
   "execution_count": 12,
   "metadata": {
    "collapsed": false
   },
   "outputs": [
    {
     "name": "stdout",
     "output_type": "stream",
     "text": [
      "00000000: 43f3 6469 676f 730a 6520 6369 6672 6173  C.digos.e cifras\r\n"
     ]
    }
   ],
   "source": [
    "!xxd arq2.txt"
   ]
  },
  {
   "cell_type": "code",
   "execution_count": null,
   "metadata": {
    "collapsed": true
   },
   "outputs": [],
   "source": []
  }
 ],
 "metadata": {
  "kernelspec": {
   "display_name": "Python 3",
   "language": "python",
   "name": "python3"
  },
  "language_info": {
   "codemirror_mode": {
    "name": "ipython",
    "version": 3
   },
   "file_extension": ".py",
   "mimetype": "text/x-python",
   "name": "python",
   "nbconvert_exporter": "python",
   "pygments_lexer": "ipython3",
   "version": "3.5.1"
  }
 },
 "nbformat": 4,
 "nbformat_minor": 0
}
